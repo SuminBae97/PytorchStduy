{
  "nbformat": 4,
  "nbformat_minor": 0,
  "metadata": {
    "colab": {
      "name": "gluon_softmax.ipynb",
      "provenance": [],
      "collapsed_sections": [],
      "authorship_tag": "ABX9TyNjMSWhffdxslGh7XbtBSRw",
      "include_colab_link": true
    },
    "kernelspec": {
      "name": "python3",
      "display_name": "Python 3"
    },
    "language_info": {
      "name": "python"
    },
    "accelerator": "GPU"
  },
  "cells": [
    {
      "cell_type": "markdown",
      "metadata": {
        "id": "view-in-github",
        "colab_type": "text"
      },
      "source": [
        "<a href=\"https://colab.research.google.com/github/SuminBae97/PytorchStudy/blob/main/gluon_softmax.ipynb\" target=\"_parent\"><img src=\"https://colab.research.google.com/assets/colab-badge.svg\" alt=\"Open In Colab\"/></a>"
      ]
    },
    {
      "cell_type": "code",
      "execution_count": null,
      "metadata": {
        "id": "VEm2-qJI22QF"
      },
      "outputs": [],
      "source": [
        "pip install mxnet\n"
      ]
    },
    {
      "cell_type": "code",
      "source": [
        "pip install --upgrade mxnet~=1.7 gluonts"
      ],
      "metadata": {
        "id": "Eb4O_KXZ27Yz"
      },
      "execution_count": null,
      "outputs": []
    },
    {
      "cell_type": "code",
      "source": [
        "pip install d2l"
      ],
      "metadata": {
        "id": "DVT_LKw43Znm"
      },
      "execution_count": null,
      "outputs": []
    },
    {
      "cell_type": "code",
      "source": [
        "pip install -U d2l"
      ],
      "metadata": {
        "id": "TRuTxqniNp5C"
      },
      "execution_count": null,
      "outputs": []
    },
    {
      "cell_type": "code",
      "source": [
        "import sys\n",
        "import d2l\n",
        "from mxnet.gluon import data as gdata\n",
        "import sys,time\n",
        "from mxnet import autograd,nd\n",
        "from d2l import mxnet as d2l"
      ],
      "metadata": {
        "id": "zWYNUwIt29pm"
      },
      "execution_count": 65,
      "outputs": []
    },
    {
      "cell_type": "code",
      "source": [
        "import sys\n",
        "sys.path.insert(0, '..')\n",
        "\n",
        "%matplotlib inline\n",
        "import d2l\n",
        "from mxnet.gluon import data as gdata\n",
        "import sys\n",
        "import time"
      ],
      "metadata": {
        "id": "0r9Z18gcDEjT"
      },
      "execution_count": 30,
      "outputs": []
    },
    {
      "cell_type": "code",
      "source": [
        "mnist_train = gdata.vision.FashionMNIST(train=True)\n",
        "mnist_test = gdata.vision.FashionMNIST(train=False)"
      ],
      "metadata": {
        "colab": {
          "base_uri": "https://localhost:8080/"
        },
        "id": "cZ8CetXs3RUL",
        "outputId": "07270fbf-0b27-4679-dc20-3f445d2de14d"
      },
      "execution_count": 6,
      "outputs": [
        {
          "output_type": "stream",
          "name": "stdout",
          "text": [
            "Downloading /root/.mxnet/datasets/fashion-mnist/train-images-idx3-ubyte.gz from https://apache-mxnet.s3-accelerate.dualstack.amazonaws.com/gluon/dataset/fashion-mnist/train-images-idx3-ubyte.gz...\n",
            "Downloading /root/.mxnet/datasets/fashion-mnist/train-labels-idx1-ubyte.gz from https://apache-mxnet.s3-accelerate.dualstack.amazonaws.com/gluon/dataset/fashion-mnist/train-labels-idx1-ubyte.gz...\n",
            "Downloading /root/.mxnet/datasets/fashion-mnist/t10k-images-idx3-ubyte.gz from https://apache-mxnet.s3-accelerate.dualstack.amazonaws.com/gluon/dataset/fashion-mnist/t10k-images-idx3-ubyte.gz...\n",
            "Downloading /root/.mxnet/datasets/fashion-mnist/t10k-labels-idx1-ubyte.gz from https://apache-mxnet.s3-accelerate.dualstack.amazonaws.com/gluon/dataset/fashion-mnist/t10k-labels-idx1-ubyte.gz...\n"
          ]
        }
      ]
    },
    {
      "cell_type": "code",
      "source": [
        "mnist_train[0][0].shape"
      ],
      "metadata": {
        "colab": {
          "base_uri": "https://localhost:8080/"
        },
        "id": "VqMViq9J3sef",
        "outputId": "0e53e738-0e49-4a99-917e-f5f4addae322"
      },
      "execution_count": 25,
      "outputs": [
        {
          "output_type": "execute_result",
          "data": {
            "text/plain": [
              "(28, 28, 1)"
            ]
          },
          "metadata": {},
          "execution_count": 25
        }
      ]
    },
    {
      "cell_type": "markdown",
      "source": [
        ""
      ],
      "metadata": {
        "id": "IkBZ-XLZ52jm"
      }
    },
    {
      "cell_type": "code",
      "source": [
        "def get_fashion_mnist_labels(labels):\n",
        "    text_labels = ['t-shirt', 'trouser', 'pullover', 'dress', 'coat',\n",
        "                   'sandal', 'shirt', 'sneaker', 'bag', 'ankle boot']\n",
        "    return [text_labels[int(i)] for i in labels]\n",
        "def show_fashion_mnist(images, labels):\n",
        "    #d2l.use_svg_display()\n",
        "    # Here _ means that we ignore (not use) variables\n",
        "    _, figs = d2l.plt.subplots(1, len(images), figsize=(12, 12))\n",
        "    for f, img, lbl in zip(figs, images, labels):\n",
        "        f.imshow(img.reshape((28, 28)).asnumpy(),cmap='grey')\n",
        "        f.set_title(lbl)\n",
        "        f.axes.get_xaxis().set_visible(False)\n",
        "        f.axes.get_yaxis().set_visible(False)"
      ],
      "metadata": {
        "id": "OLArenLy3udS"
      },
      "execution_count": 26,
      "outputs": []
    },
    {
      "cell_type": "code",
      "source": [
        "\n",
        "batch_size = 256\n",
        "transformer = gdata.vision.transforms.ToTensor()\n",
        "if sys.platform.startswith('win'):\n",
        "    # 0 means no additional processes are needed to speed up the reading of\n",
        "    # data\n",
        "    num_workers = 0\n",
        "else:\n",
        "    num_workers = 4\n",
        "\n",
        "train_iter = gdata.DataLoader(mnist_train.transform_first(transformer),\n",
        "                              batch_size, shuffle=True,\n",
        "                              num_workers=num_workers)\n",
        "test_iter = gdata.DataLoader(mnist_test.transform_first(transformer),\n",
        "                             batch_size, shuffle=False,\n",
        "                             num_workers=num_workers)"
      ],
      "metadata": {
        "id": "yjFfM2UB5NC1"
      },
      "execution_count": 31,
      "outputs": []
    },
    {
      "cell_type": "code",
      "source": [
        "train_iter"
      ],
      "metadata": {
        "colab": {
          "base_uri": "https://localhost:8080/"
        },
        "id": "NFAWa1ToDGqh",
        "outputId": "0fad2028-c3d1-47ba-a294-7547a8b308ae"
      },
      "execution_count": 33,
      "outputs": [
        {
          "output_type": "execute_result",
          "data": {
            "text/plain": [
              "<mxnet.gluon.data.dataloader.DataLoader at 0x7f49ea10ed10>"
            ]
          },
          "metadata": {},
          "execution_count": 33
        }
      ]
    },
    {
      "cell_type": "code",
      "source": [
        "num_inputs=784\n",
        "num_outputs=10\n",
        "W = nd.random.normal(scale=0.01,shape=(num_inputs,num_outputs))\n",
        "b= nd.zeros(num_outputs)\n"
      ],
      "metadata": {
        "id": "Zb8lXDrdDH2w"
      },
      "execution_count": 34,
      "outputs": []
    },
    {
      "cell_type": "code",
      "source": [
        "W.attach_grad()\n",
        "b.attach_grad()"
      ],
      "metadata": {
        "id": "t_GFG61MDZsO"
      },
      "execution_count": 35,
      "outputs": []
    },
    {
      "cell_type": "code",
      "source": [
        "test = nd.array([[1,2,3]])"
      ],
      "metadata": {
        "id": "oq_PrZ_pEMY_"
      },
      "execution_count": 36,
      "outputs": []
    },
    {
      "cell_type": "code",
      "source": [
        "def softmax(X):\n",
        "    X_exp = X.exp()\n",
        "    partition = X_exp.sum(axis=1,keepdims=True)\n",
        "    return X_exp/partition\n",
        "\n",
        "def net(X):\n",
        "    return softmax(nd.dot(X.reshape((-1,num_inputs)),W)+b)\n",
        "\n",
        "def cross_entropy(y_hat,y):\n",
        "    return -nd.pick(y_hat,y).log()\n",
        "\n",
        "def accuracy(y_hat,y):\n",
        "    return (y_hat.argmax(axis=1)==y.astype('float32')).mean().asscalar()"
      ],
      "metadata": {
        "id": "wRFDGHGVDc-r"
      },
      "execution_count": 55,
      "outputs": []
    },
    {
      "cell_type": "code",
      "source": [
        "X=nd.random.normal(shape=(2,5))\n",
        "X_prob = softmax(X)\n"
      ],
      "metadata": {
        "id": "AzuepFAbEYPK"
      },
      "execution_count": 41,
      "outputs": []
    },
    {
      "cell_type": "code",
      "source": [
        "X_prob,X_prob.sum(axis=1)"
      ],
      "metadata": {
        "colab": {
          "base_uri": "https://localhost:8080/"
        },
        "id": "HMDRYWVKEgoh",
        "outputId": "5f33d35d-ae67-4ec9-c60e-fcc3c0c6d4a9"
      },
      "execution_count": 43,
      "outputs": [
        {
          "output_type": "execute_result",
          "data": {
            "text/plain": [
              "(\n",
              " [[0.21324193 0.33961776 0.1239742  0.27106097 0.05210521]\n",
              "  [0.11462264 0.3461234  0.19401033 0.29583326 0.04941036]]\n",
              " <NDArray 2x5 @cpu(0)>, \n",
              " [1.0000001 1.       ]\n",
              " <NDArray 2 @cpu(0)>)"
            ]
          },
          "metadata": {},
          "execution_count": 43
        }
      ]
    },
    {
      "cell_type": "code",
      "source": [
        "def evaluate_accuracy(data_iter, net):\n",
        "    acc_sum, n = 0.0, 0\n",
        "    for X, y in data_iter:\n",
        "        y = y.astype('float32')\n",
        "        acc_sum += (net(X).argmax(axis=1) == y).sum().asscalar()\n",
        "        n += y.size\n",
        "    return acc_sum / n"
      ],
      "metadata": {
        "id": "0JYO3Xh2LsXU"
      },
      "execution_count": 61,
      "outputs": []
    },
    {
      "cell_type": "code",
      "source": [
        ""
      ],
      "metadata": {
        "id": "Y8SALQK1Motg"
      },
      "execution_count": null,
      "outputs": []
    },
    {
      "cell_type": "code",
      "source": [
        "num_epochs, lr = 5, 0.1\n",
        "\n",
        "# This function has been saved in the d2l package for future use\n",
        "def train_ch3(net, train_iter, test_iter, loss, num_epochs, batch_size,\n",
        "              params=None, lr=None, trainer=None):\n",
        "    for epoch in range(num_epochs):\n",
        "        train_l_sum, train_acc_sum, n = 0.0, 0.0, 0\n",
        "        for X, y in train_iter:\n",
        "            with autograd.record():\n",
        "                y_hat = net(X)\n",
        "                l = loss(y_hat, y).sum()\n",
        "            l.backward()\n",
        "            if trainer is None:\n",
        "                d2l.sgd(params, lr, batch_size)\n",
        "            else:\n",
        "                # This will be illustrated in the next section\n",
        "                trainer.step(batch_size)\n",
        "            y = y.astype('float32')\n",
        "            train_l_sum += l.asscalar()\n",
        "            train_acc_sum += (y_hat.argmax(axis=1) == y).sum().asscalar()\n",
        "            n += y.size\n",
        "        test_acc = evaluate_accuracy(test_iter, net)\n",
        "        print('epoch %d, loss %.4f, train acc %.3f, test acc %.3f'\n",
        "              % (epoch + 1, train_l_sum / n, train_acc_sum / n, test_acc))\n",
        "\n",
        "train_ch3(net, train_iter, test_iter, cross_entropy, 20,\n",
        "          batch_size, [W, b], lr)"
      ],
      "metadata": {
        "colab": {
          "base_uri": "https://localhost:8080/"
        },
        "id": "2V7gfp1eMBFZ",
        "outputId": "73834316-e76f-4283-acd3-9a1e4974f537"
      },
      "execution_count": 71,
      "outputs": [
        {
          "output_type": "stream",
          "name": "stdout",
          "text": [
            "epoch 1, loss 0.4777, train acc 0.837, test acc 0.844\n",
            "epoch 2, loss 0.4693, train acc 0.840, test acc 0.845\n",
            "epoch 3, loss 0.4624, train acc 0.841, test acc 0.847\n",
            "epoch 4, loss 0.4559, train acc 0.846, test acc 0.847\n",
            "epoch 5, loss 0.4509, train acc 0.847, test acc 0.847\n",
            "epoch 6, loss 0.4465, train acc 0.848, test acc 0.850\n",
            "epoch 7, loss 0.4428, train acc 0.848, test acc 0.851\n",
            "epoch 8, loss 0.4404, train acc 0.850, test acc 0.852\n",
            "epoch 9, loss 0.4371, train acc 0.851, test acc 0.852\n",
            "epoch 10, loss 0.4345, train acc 0.851, test acc 0.851\n",
            "epoch 11, loss 0.4319, train acc 0.852, test acc 0.851\n",
            "epoch 12, loss 0.4294, train acc 0.853, test acc 0.849\n",
            "epoch 13, loss 0.4275, train acc 0.853, test acc 0.855\n",
            "epoch 14, loss 0.4257, train acc 0.854, test acc 0.855\n",
            "epoch 15, loss 0.4227, train acc 0.856, test acc 0.854\n",
            "epoch 16, loss 0.4217, train acc 0.855, test acc 0.853\n",
            "epoch 17, loss 0.4207, train acc 0.856, test acc 0.853\n",
            "epoch 18, loss 0.4199, train acc 0.855, test acc 0.851\n",
            "epoch 19, loss 0.4177, train acc 0.857, test acc 0.857\n",
            "epoch 20, loss 0.4172, train acc 0.857, test acc 0.857\n"
          ]
        }
      ]
    },
    {
      "cell_type": "code",
      "source": [
        ""
      ],
      "metadata": {
        "id": "y9PI1fwESHtl"
      },
      "execution_count": null,
      "outputs": []
    }
  ]
}