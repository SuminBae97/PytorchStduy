{
  "nbformat": 4,
  "nbformat_minor": 0,
  "metadata": {
    "colab": {
      "name": "Regression_torch.ipynb",
      "provenance": [],
      "collapsed_sections": [],
      "authorship_tag": "ABX9TyO8luxD1sTLtMGsJobEdgpa",
      "include_colab_link": true
    },
    "kernelspec": {
      "name": "python3",
      "display_name": "Python 3"
    },
    "language_info": {
      "name": "python"
    },
    "accelerator": "GPU"
  },
  "cells": [
    {
      "cell_type": "markdown",
      "metadata": {
        "id": "view-in-github",
        "colab_type": "text"
      },
      "source": [
        "<a href=\"https://colab.research.google.com/github/SuminBae97/PytorchStudy/blob/main/Regression_torch.ipynb\" target=\"_parent\"><img src=\"https://colab.research.google.com/assets/colab-badge.svg\" alt=\"Open In Colab\"/></a>"
      ]
    },
    {
      "cell_type": "code",
      "execution_count": 1,
      "metadata": {
        "id": "WpI1WcMGFYn9"
      },
      "outputs": [],
      "source": [
        "import torch.nn as nn\n",
        "import numpy as np\n",
        "import matplotlib.pyplot as plt\n",
        "import torch\n",
        "import torch.nn.functional as F\n",
        "\n",
        "\n"
      ]
    },
    {
      "cell_type": "code",
      "source": [
        "xtrain = torch.FloatTensor([[1],[2],[3]])\n",
        "ytrain = torch.FloatTensor([[2],[4],[6]])\n"
      ],
      "metadata": {
        "id": "tegNLDqdFj4K"
      },
      "execution_count": 2,
      "outputs": []
    },
    {
      "cell_type": "code",
      "source": [
        "model = nn.Linear(1,1)"
      ],
      "metadata": {
        "id": "Q2t1EglaG0f5"
      },
      "execution_count": 3,
      "outputs": []
    },
    {
      "cell_type": "code",
      "source": [
        "list(model.parameters())"
      ],
      "metadata": {
        "colab": {
          "base_uri": "https://localhost:8080/"
        },
        "id": "8NM2l2n_G4Fl",
        "outputId": "5d9dd214-bf05-4d82-bd31-ab0e40a08075"
      },
      "execution_count": 4,
      "outputs": [
        {
          "output_type": "execute_result",
          "data": {
            "text/plain": [
              "[Parameter containing:\n",
              " tensor([[-0.3054]], requires_grad=True), Parameter containing:\n",
              " tensor([-0.3602], requires_grad=True)]"
            ]
          },
          "metadata": {},
          "execution_count": 4
        }
      ]
    },
    {
      "cell_type": "code",
      "source": [
        "optimizer = torch.optim.SGD(model.parameters(),lr=0.01)"
      ],
      "metadata": {
        "id": "VX0a3MOpHLJf"
      },
      "execution_count": 5,
      "outputs": []
    },
    {
      "cell_type": "code",
      "source": [
        "nb_epochs=2000\n",
        "\n",
        "for epoch in range(nb_epochs+1):\n",
        "    prediction = model(xtrain)\n",
        "    cost = F.mse_loss(prediction,ytrain)\n",
        "    optimizer.zero_grad()\n",
        "    cost.backward()\n",
        "    optimizer.step()\n",
        "\n",
        "    if epoch%100 ==0:\n",
        "        print('Epoch{:4d}/{} cost: {:.6f}'.format(epoch,nb_epochs,cost.item()))\n",
        "    "
      ],
      "metadata": {
        "colab": {
          "base_uri": "https://localhost:8080/"
        },
        "id": "Pdi_k96HHdi5",
        "outputId": "d67f822f-754a-47f8-8fb7-89271da86212"
      },
      "execution_count": 6,
      "outputs": [
        {
          "output_type": "stream",
          "name": "stdout",
          "text": [
            "Epoch   0/2000 cost: 28.252813\n",
            "Epoch 100/2000 cost: 0.026616\n",
            "Epoch 200/2000 cost: 0.016447\n",
            "Epoch 300/2000 cost: 0.010163\n",
            "Epoch 400/2000 cost: 0.006280\n",
            "Epoch 500/2000 cost: 0.003881\n",
            "Epoch 600/2000 cost: 0.002398\n",
            "Epoch 700/2000 cost: 0.001482\n",
            "Epoch 800/2000 cost: 0.000916\n",
            "Epoch 900/2000 cost: 0.000566\n",
            "Epoch1000/2000 cost: 0.000350\n",
            "Epoch1100/2000 cost: 0.000216\n",
            "Epoch1200/2000 cost: 0.000134\n",
            "Epoch1300/2000 cost: 0.000083\n",
            "Epoch1400/2000 cost: 0.000051\n",
            "Epoch1500/2000 cost: 0.000032\n",
            "Epoch1600/2000 cost: 0.000019\n",
            "Epoch1700/2000 cost: 0.000012\n",
            "Epoch1800/2000 cost: 0.000007\n",
            "Epoch1900/2000 cost: 0.000005\n",
            "Epoch2000/2000 cost: 0.000003\n"
          ]
        }
      ]
    },
    {
      "cell_type": "code",
      "source": [
        "test = torch.FloatTensor([[4]])\n"
      ],
      "metadata": {
        "id": "nH4Gah1VIL2T"
      },
      "execution_count": 7,
      "outputs": []
    },
    {
      "cell_type": "code",
      "source": [
        "prediction = model(test)\n"
      ],
      "metadata": {
        "id": "AATJwVpbISnb"
      },
      "execution_count": 8,
      "outputs": []
    },
    {
      "cell_type": "code",
      "source": [
        "prediction"
      ],
      "metadata": {
        "colab": {
          "base_uri": "https://localhost:8080/"
        },
        "id": "e4R4KRQcIbMB",
        "outputId": "a82306e1-0c72-44aa-e839-899935ddc59e"
      },
      "execution_count": 9,
      "outputs": [
        {
          "output_type": "execute_result",
          "data": {
            "text/plain": [
              "tensor([[7.9966]], grad_fn=<AddmmBackward0>)"
            ]
          },
          "metadata": {},
          "execution_count": 9
        }
      ]
    },
    {
      "cell_type": "markdown",
      "source": [
        "Building Regression model with Class"
      ],
      "metadata": {
        "id": "ZPPkWwXlIb9w"
      }
    },
    {
      "cell_type": "code",
      "source": [
        "class LinearRegression(nn.Module):\n",
        "    def __init__(self):\n",
        "        super().__init__()\n",
        "        self.linear = nn.Linear(1,1)\n",
        "\n",
        "    def forward(self,x):\n",
        "        return self.linear(x)\n",
        "\n",
        "model = LinearRegression()        \n",
        "\n"
      ],
      "metadata": {
        "id": "rCyK8Xn9I5nX"
      },
      "execution_count": 34,
      "outputs": []
    },
    {
      "cell_type": "code",
      "source": [
        "model = LinearRegressionModel()        \n",
        "optimizer = torch.optim.SGD(model.parameters(),lr=0.01)\n",
        "\n"
      ],
      "metadata": {
        "colab": {
          "base_uri": "https://localhost:8080/",
          "height": 209
        },
        "id": "R_wm6TWMLSWd",
        "outputId": "850db109-442a-48ef-c347-00ed7a47c520"
      },
      "execution_count": 36,
      "outputs": [
        {
          "output_type": "error",
          "ename": "NameError",
          "evalue": "ignored",
          "traceback": [
            "\u001b[0;31m---------------------------------------------------------------------------\u001b[0m",
            "\u001b[0;31mNameError\u001b[0m                                 Traceback (most recent call last)",
            "\u001b[0;32m<ipython-input-36-7e3a57e33635>\u001b[0m in \u001b[0;36m<module>\u001b[0;34m()\u001b[0m\n\u001b[0;32m----> 1\u001b[0;31m \u001b[0mmodel\u001b[0m \u001b[0;34m=\u001b[0m \u001b[0mLinearRegressionModel\u001b[0m\u001b[0;34m(\u001b[0m\u001b[0;34m)\u001b[0m\u001b[0;34m\u001b[0m\u001b[0;34m\u001b[0m\u001b[0m\n\u001b[0m\u001b[1;32m      2\u001b[0m \u001b[0moptimizer\u001b[0m \u001b[0;34m=\u001b[0m \u001b[0mtorch\u001b[0m\u001b[0;34m.\u001b[0m\u001b[0moptim\u001b[0m\u001b[0;34m.\u001b[0m\u001b[0mSGD\u001b[0m\u001b[0;34m(\u001b[0m\u001b[0mmodel\u001b[0m\u001b[0;34m.\u001b[0m\u001b[0mparameters\u001b[0m\u001b[0;34m(\u001b[0m\u001b[0;34m)\u001b[0m\u001b[0;34m,\u001b[0m\u001b[0mlr\u001b[0m\u001b[0;34m=\u001b[0m\u001b[0;36m0.01\u001b[0m\u001b[0;34m)\u001b[0m\u001b[0;34m\u001b[0m\u001b[0;34m\u001b[0m\u001b[0m\n\u001b[1;32m      3\u001b[0m \u001b[0;34m\u001b[0m\u001b[0m\n",
            "\u001b[0;31mNameError\u001b[0m: name 'LinearRegressionModel' is not defined"
          ]
        }
      ]
    },
    {
      "cell_type": "code",
      "source": [
        "# nb_epochs=2000\n",
        "\n",
        "# for epoch in range(nb_epochs+1):\n",
        "#     prediction = model(xtrain)\n",
        "    \n",
        "#     #cost 계산\n",
        "#     cost = F.mse_loss(prediction,ytrain)\n",
        "\n",
        "#     #기울기 0으로 초기화\n",
        "    \n",
        "#     optimizer.zero_grad()\n",
        "#     cost.backward()\n",
        "\n",
        "#     #weight bias update\n",
        "#     optimizer.step()\n",
        "\n",
        "#     if epoch%100==0:\n",
        "#         print('Epoch : {:4d}/ {} Cost : {:.6f}'.format(epoch, nb_epochs,cost.item()))\n",
        "\n",
        "\n"
      ],
      "metadata": {
        "id": "nuMTlvGxL1Oh"
      },
      "execution_count": 12,
      "outputs": []
    },
    {
      "cell_type": "code",
      "source": [
        "pred = model(torch.FloatTensor([[10]]))"
      ],
      "metadata": {
        "id": "b6aCYNE0NC3-"
      },
      "execution_count": 13,
      "outputs": []
    },
    {
      "cell_type": "code",
      "source": [
        "pred"
      ],
      "metadata": {
        "colab": {
          "base_uri": "https://localhost:8080/"
        },
        "id": "DS7g-9HtNI_0",
        "outputId": "916b3b97-7cc9-46c3-f8c3-06de1f3b1e6a"
      },
      "execution_count": 14,
      "outputs": [
        {
          "output_type": "execute_result",
          "data": {
            "text/plain": [
              "tensor([[-6.5891]], grad_fn=<AddmmBackward0>)"
            ]
          },
          "metadata": {},
          "execution_count": 14
        }
      ]
    },
    {
      "cell_type": "markdown",
      "source": [
        "Multi variate Linear Regression"
      ],
      "metadata": {
        "id": "VwnrDu6DNJb_"
      }
    },
    {
      "cell_type": "code",
      "source": [
        "class MultivariateLinearRegressionModel(nn.Module):\n",
        "    def __init__(self):\n",
        "        super().__init__()\n",
        "        self.linear = nn.Linear(3, 1) # 다중 선형 회귀이므로 input_dim=3, output_dim=1.\n",
        "\n",
        "    def forward(self, x):\n",
        "        return self.linear(x)"
      ],
      "metadata": {
        "id": "cBaDPQChOSK_"
      },
      "execution_count": 37,
      "outputs": []
    },
    {
      "cell_type": "code",
      "source": [
        "model = MultivariateLinearRegressionModel()\n",
        "optimizer = torch.optim.SGD(model.parameters(),lr=1e-5)\n"
      ],
      "metadata": {
        "id": "4MrOsu0wPigS"
      },
      "execution_count": 45,
      "outputs": []
    },
    {
      "cell_type": "code",
      "source": [
        "list(model.parameters())"
      ],
      "metadata": {
        "colab": {
          "base_uri": "https://localhost:8080/"
        },
        "id": "9Dq3tATGMbMS",
        "outputId": "f86fe7d4-d962-4ade-d740-f1b9e628d7ff"
      },
      "execution_count": 46,
      "outputs": [
        {
          "output_type": "execute_result",
          "data": {
            "text/plain": [
              "[Parameter containing:\n",
              " tensor([[-0.4632,  0.4528,  0.3256]], requires_grad=True),\n",
              " Parameter containing:\n",
              " tensor([0.2933], requires_grad=True)]"
            ]
          },
          "metadata": {},
          "execution_count": 46
        }
      ]
    },
    {
      "cell_type": "code",
      "source": [
        "x_train = torch.FloatTensor([[73, 80, 75],\n",
        "                             [93, 88, 93],\n",
        "                             [89, 91, 90],\n",
        "                             [96, 98, 100],\n",
        "                             [73, 66, 70]])\n",
        "y_train = torch.FloatTensor([[152], [185], [180], [196], [142]])"
      ],
      "metadata": {
        "id": "1199J96rPklk"
      },
      "execution_count": 47,
      "outputs": []
    },
    {
      "cell_type": "code",
      "source": [
        "# nb_epochs =10000\n",
        "# for epoch in range(nb_epochs+1):\n",
        "    \n",
        "#     prediction = model(x_train)\n",
        "#     cost = F.mse_loss(prediction,y_train)\n",
        "\n",
        "#     optimizer.zero_grad()\n",
        "#     cost.backward()\n",
        "#     optimizer.step()\n",
        "\n",
        "#     if epoch%100==0:\n",
        "\n",
        "#     # 100번마다 로그 출력\n",
        "#         print('Epoch {:4d}/{} Cost: {:.6f}'.format(epoch, nb_epochs, cost.item()))"
      ],
      "metadata": {
        "id": "N-3flwwZLVwV"
      },
      "execution_count": null,
      "outputs": []
    },
    {
      "cell_type": "code",
      "source": [
        "test = torch.FloatTensor(\n",
        "    [[73,80,75]]\n",
        ")"
      ],
      "metadata": {
        "id": "ZK2zxipdNyJu"
      },
      "execution_count": 50,
      "outputs": []
    },
    {
      "cell_type": "code",
      "source": [
        "model(test)"
      ],
      "metadata": {
        "colab": {
          "base_uri": "https://localhost:8080/"
        },
        "id": "ytsN4Yc-OZaG",
        "outputId": "6863f9de-a346-4d2a-dd46-600de6ad3559"
      },
      "execution_count": 51,
      "outputs": [
        {
          "output_type": "execute_result",
          "data": {
            "text/plain": [
              "tensor([[151.1958]], grad_fn=<AddmmBackward0>)"
            ]
          },
          "metadata": {},
          "execution_count": 51
        }
      ]
    },
    {
      "cell_type": "code",
      "source": [
        ""
      ],
      "metadata": {
        "id": "4STZbZUfOaJ4"
      },
      "execution_count": null,
      "outputs": []
    }
  ]
}