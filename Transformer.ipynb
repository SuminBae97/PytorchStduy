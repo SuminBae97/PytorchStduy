{
  "nbformat": 4,
  "nbformat_minor": 0,
  "metadata": {
    "colab": {
      "name": "Transformer.ipynb",
      "provenance": [],
      "collapsed_sections": [],
      "authorship_tag": "ABX9TyOLvNYk4xd1XUvPQALdtzOO",
      "include_colab_link": true
    },
    "kernelspec": {
      "name": "python3",
      "display_name": "Python 3"
    },
    "language_info": {
      "name": "python"
    },
    "accelerator": "GPU"
  },
  "cells": [
    {
      "cell_type": "markdown",
      "metadata": {
        "id": "view-in-github",
        "colab_type": "text"
      },
      "source": [
        "<a href=\"https://colab.research.google.com/github/SuminBae97/PytorchStudy/blob/main/Transformer.ipynb\" target=\"_parent\"><img src=\"https://colab.research.google.com/assets/colab-badge.svg\" alt=\"Open In Colab\"/></a>"
      ]
    },
    {
      "cell_type": "code",
      "execution_count": 1,
      "metadata": {
        "colab": {
          "base_uri": "https://localhost:8080/"
        },
        "id": "ZLXUeIUGH4py",
        "outputId": "b500330e-7a5a-418d-f9e1-5a59e07ee66f"
      },
      "outputs": [
        {
          "output_type": "stream",
          "name": "stdout",
          "text": [
            "Collecting torchtext==0.6.0\n",
            "  Downloading torchtext-0.6.0-py3-none-any.whl (64 kB)\n",
            "\u001b[K     |████████████████████████████████| 64 kB 913 kB/s \n",
            "\u001b[?25hRequirement already satisfied: six in /usr/local/lib/python3.7/dist-packages (from torchtext==0.6.0) (1.15.0)\n",
            "Requirement already satisfied: numpy in /usr/local/lib/python3.7/dist-packages (from torchtext==0.6.0) (1.21.5)\n",
            "Requirement already satisfied: requests in /usr/local/lib/python3.7/dist-packages (from torchtext==0.6.0) (2.23.0)\n",
            "Requirement already satisfied: tqdm in /usr/local/lib/python3.7/dist-packages (from torchtext==0.6.0) (4.63.0)\n",
            "Requirement already satisfied: torch in /usr/local/lib/python3.7/dist-packages (from torchtext==0.6.0) (1.10.0+cu111)\n",
            "Collecting sentencepiece\n",
            "  Downloading sentencepiece-0.1.96-cp37-cp37m-manylinux_2_17_x86_64.manylinux2014_x86_64.whl (1.2 MB)\n",
            "\u001b[K     |████████████████████████████████| 1.2 MB 9.3 MB/s \n",
            "\u001b[?25hRequirement already satisfied: chardet<4,>=3.0.2 in /usr/local/lib/python3.7/dist-packages (from requests->torchtext==0.6.0) (3.0.4)\n",
            "Requirement already satisfied: idna<3,>=2.5 in /usr/local/lib/python3.7/dist-packages (from requests->torchtext==0.6.0) (2.10)\n",
            "Requirement already satisfied: certifi>=2017.4.17 in /usr/local/lib/python3.7/dist-packages (from requests->torchtext==0.6.0) (2021.10.8)\n",
            "Requirement already satisfied: urllib3!=1.25.0,!=1.25.1,<1.26,>=1.21.1 in /usr/local/lib/python3.7/dist-packages (from requests->torchtext==0.6.0) (1.24.3)\n",
            "Requirement already satisfied: typing-extensions in /usr/local/lib/python3.7/dist-packages (from torch->torchtext==0.6.0) (3.10.0.2)\n",
            "Installing collected packages: sentencepiece, torchtext\n",
            "  Attempting uninstall: torchtext\n",
            "    Found existing installation: torchtext 0.11.0\n",
            "    Uninstalling torchtext-0.11.0:\n",
            "      Successfully uninstalled torchtext-0.11.0\n",
            "Successfully installed sentencepiece-0.1.96 torchtext-0.6.0\n"
          ]
        }
      ],
      "source": [
        "!pip install torchtext==0.6.0"
      ]
    },
    {
      "cell_type": "code",
      "source": [
        "%%capture\n",
        "!python -m spacy download en\n",
        "!python -m spacy download de"
      ],
      "metadata": {
        "id": "Z3r73jf7IARu"
      },
      "execution_count": 2,
      "outputs": []
    },
    {
      "cell_type": "code",
      "source": [
        "import spacy\n",
        "spacy_en = spacy.load('en')\n",
        "spacy_de = spacy.load('de')\n"
      ],
      "metadata": {
        "id": "nsYp5gnOIK-f"
      },
      "execution_count": 3,
      "outputs": []
    },
    {
      "cell_type": "code",
      "source": [
        "tokenized = spacy_en.tokenizer('i am a graduate student')\n",
        "\n",
        "for i,token in enumerate(tokenized):\n",
        "    print(f'index : {i}: {token.text}')"
      ],
      "metadata": {
        "colab": {
          "base_uri": "https://localhost:8080/"
        },
        "id": "rOviBxdBIVYI",
        "outputId": "bb8bf336-813d-4afd-fd7e-46a4228bd73f"
      },
      "execution_count": 4,
      "outputs": [
        {
          "output_type": "stream",
          "name": "stdout",
          "text": [
            "index : 0: i\n",
            "index : 1: am\n",
            "index : 2: a\n",
            "index : 3: graduate\n",
            "index : 4: student\n"
          ]
        }
      ]
    },
    {
      "cell_type": "code",
      "source": [
        "def tokenize_de(text):\n",
        "    return [token.text for token in spacy_de.tokenizer(text)]\n",
        "def tokenize_en(text):\n",
        "    return [token.text for token in spacy_en.tokenizer(text)]    "
      ],
      "metadata": {
        "id": "XiXdid60ImEs"
      },
      "execution_count": 5,
      "outputs": []
    },
    {
      "cell_type": "code",
      "source": [
        "from torchtext.data import Field, BucketIterator\n",
        "\n",
        "SRC = Field(tokenize=tokenize_de, init_token=\"<sos>\", eos_token=\"<eos>\", lower=True, batch_first=True)\n",
        "TRG = Field(tokenize=tokenize_en, init_token=\"<sos>\", eos_token=\"<eos>\", lower=True, batch_first=True)"
      ],
      "metadata": {
        "id": "X7ED1Iq_JETt"
      },
      "execution_count": 6,
      "outputs": []
    },
    {
      "cell_type": "code",
      "source": [
        "from torchtext.datasets import Multi30k\n",
        "\n",
        "train_dataset, valid_dataset, test_dataset = Multi30k.splits(exts=(\".de\", \".en\"), fields=(SRC, TRG))"
      ],
      "metadata": {
        "colab": {
          "base_uri": "https://localhost:8080/"
        },
        "id": "soVd-rhOJJ2r",
        "outputId": "ecb20809-f254-4170-e683-e1df089e7d29"
      },
      "execution_count": 7,
      "outputs": [
        {
          "output_type": "stream",
          "name": "stdout",
          "text": [
            "downloading training.tar.gz\n"
          ]
        },
        {
          "output_type": "stream",
          "name": "stderr",
          "text": [
            "training.tar.gz: 100%|██████████| 1.21M/1.21M [00:03<00:00, 302kB/s]\n"
          ]
        },
        {
          "output_type": "stream",
          "name": "stdout",
          "text": [
            "downloading validation.tar.gz\n"
          ]
        },
        {
          "output_type": "stream",
          "name": "stderr",
          "text": [
            "validation.tar.gz: 100%|██████████| 46.3k/46.3k [00:00<00:00, 92.7kB/s]\n"
          ]
        },
        {
          "output_type": "stream",
          "name": "stdout",
          "text": [
            "downloading mmt_task1_test2016.tar.gz\n"
          ]
        },
        {
          "output_type": "stream",
          "name": "stderr",
          "text": [
            "mmt_task1_test2016.tar.gz: 100%|██████████| 66.2k/66.2k [00:00<00:00, 88.1kB/s]\n"
          ]
        }
      ]
    },
    {
      "cell_type": "code",
      "source": [
        "print(vars(train_dataset.examples[30])['src'])\n",
        "print(vars(train_dataset.examples[30])['trg'])\n"
      ],
      "metadata": {
        "colab": {
          "base_uri": "https://localhost:8080/"
        },
        "id": "3ur8Lh7jJWKT",
        "outputId": "9b250365-9405-4360-bf3d-9761dca233ee"
      },
      "execution_count": 14,
      "outputs": [
        {
          "output_type": "stream",
          "name": "stdout",
          "text": [
            "['ein', 'mann', ',', 'der', 'mit', 'einer', 'tasse', 'kaffee', 'an', 'einem', 'urinal', 'steht', '.']\n",
            "['a', 'man', 'standing', 'at', 'a', 'urinal', 'with', 'a', 'coffee', 'cup', '.']\n"
          ]
        }
      ]
    },
    {
      "cell_type": "code",
      "source": [
        "for i in range(3):\n",
        "    print(vars(train_dataset.examples[i])['src'])\n",
        "    print(vars(train_dataset.examples[i])['trg'])\n",
        "\n"
      ],
      "metadata": {
        "colab": {
          "base_uri": "https://localhost:8080/"
        },
        "id": "paMRi2I1JiS7",
        "outputId": "d6796ccc-917c-4506-df83-e83a14c55ff3"
      },
      "execution_count": 15,
      "outputs": [
        {
          "output_type": "stream",
          "name": "stdout",
          "text": [
            "['zwei', 'junge', 'weiße', 'männer', 'sind', 'im', 'freien', 'in', 'der', 'nähe', 'vieler', 'büsche', '.']\n",
            "['two', 'young', ',', 'white', 'males', 'are', 'outside', 'near', 'many', 'bushes', '.']\n",
            "['mehrere', 'männer', 'mit', 'schutzhelmen', 'bedienen', 'ein', 'antriebsradsystem', '.']\n",
            "['several', 'men', 'in', 'hard', 'hats', 'are', 'operating', 'a', 'giant', 'pulley', 'system', '.']\n",
            "['ein', 'kleines', 'mädchen', 'klettert', 'in', 'ein', 'spielhaus', 'aus', 'holz', '.']\n",
            "['a', 'little', 'girl', 'climbing', 'into', 'a', 'wooden', 'playhouse', '.']\n"
          ]
        }
      ]
    },
    {
      "cell_type": "code",
      "source": [
        "SRC.build_vocab(train_dataset, min_freq=2)\n",
        "TRG.build_vocab(train_dataset,min_freq=2)\n",
        "\n",
        "print(f'len(src) : {len(SRC.vocab)}')\n",
        "print(f'len(trg) : {len(TRG.vocab)}')"
      ],
      "metadata": {
        "colab": {
          "base_uri": "https://localhost:8080/"
        },
        "id": "LZrAI2EiKbw8",
        "outputId": "edbc41e4-ce8a-4d0f-906d-7240a0e29b0f"
      },
      "execution_count": 16,
      "outputs": [
        {
          "output_type": "stream",
          "name": "stdout",
          "text": [
            "len(src) : 7855\n",
            "len(trg) : 5893\n"
          ]
        }
      ]
    },
    {
      "cell_type": "code",
      "source": [
        "import torch\n",
        "device = torch.device('cuda' if torch.cuda.is_available() else 'cpu')\n",
        "\n",
        "BATCH_SIZE = 128\n",
        "\n",
        "train_iterator, valid_iterator ,test_iterator = BucketIterator.splits(\n",
        "    (train_dataset,valid_dataset,test_dataset),\n",
        "    batch_size=BATCH_SIZE,\n",
        "    device=device\n",
        ")\n",
        "\n",
        "\n"
      ],
      "metadata": {
        "id": "AMTSs4BKLkQV"
      },
      "execution_count": 17,
      "outputs": []
    },
    {
      "cell_type": "code",
      "source": [
        "list(train_iterator)[0]"
      ],
      "metadata": {
        "colab": {
          "base_uri": "https://localhost:8080/"
        },
        "id": "QmOTgGKsNkOR",
        "outputId": "1e9f29f9-f974-402e-bfe0-23dab837da9c"
      },
      "execution_count": 20,
      "outputs": [
        {
          "output_type": "execute_result",
          "data": {
            "text/plain": [
              "\n",
              "[torchtext.data.batch.Batch of size 128 from MULTI30K]\n",
              "\t[.src]:[torch.cuda.LongTensor of size 128x29 (GPU 0)]\n",
              "\t[.trg]:[torch.cuda.LongTensor of size 128x28 (GPU 0)]"
            ]
          },
          "metadata": {},
          "execution_count": 20
        }
      ]
    },
    {
      "cell_type": "code",
      "source": [
        "j=0\n",
        "src_1=None\n",
        "trg_1=None\n",
        "i=0\n",
        "for i, batch in enumerate(train_iterator):\n",
        "    src = batch.src\n",
        "    src_1 = src\n",
        "    trg = batch.trg\n",
        "    trg_1 = trg\n",
        "\n",
        "    print(f\"{i} 번째 배치 크기: {src.shape}\")\n",
        "\n",
        "    # 현재 배치에 있는 하나의 문장에 포함된 정보 출력\n",
        "    # for i in range(src.shape[1]):\n",
        "    #     print(f\"인덱스 {i}: {src[0][i].item()}\") # 여기에서는 [Seq_num, Seq_len]\n",
        "\n",
        "    # 첫 번째 배치만 확인\n",
        "    \n",
        "    "
      ],
      "metadata": {
        "id": "BR0g1FVANn7g"
      },
      "execution_count": null,
      "outputs": []
    },
    {
      "cell_type": "code",
      "source": [
        "\n",
        "for i in range(len(trg_1)):\n",
        "    for j in range(len(trg_1[i])):\n",
        "         print(TRG.vocab.itos[trg_1[i][j]],end=' ')\n",
        "    print()\n",
        "    print(\"-----------------------------------------------------------\")     \n",
        "\n",
        "\n"
      ],
      "metadata": {
        "colab": {
          "base_uri": "https://localhost:8080/"
        },
        "id": "zx9Oc40KYRgG",
        "outputId": "b81a10d7-3c53-47e9-98d3-487c2e721bf9"
      },
      "execution_count": 69,
      "outputs": [
        {
          "output_type": "stream",
          "name": "stdout",
          "text": [
            "<sos> two people are playing guitar , while a third is <unk> the drums . <eos> <pad> <pad> <pad> <pad> <pad> <pad> <pad> <pad> <pad> <pad> <pad> \n",
            "-----------------------------------------------------------\n",
            "<sos> a woman wearing a brown costume and fuzzy black wings is riding a bike <eos> <pad> <pad> <pad> <pad> <pad> <pad> <pad> <pad> <pad> <pad> <pad> \n",
            "-----------------------------------------------------------\n",
            "<sos> a very <unk> looking woman is holding a pot and some branches above her head . <eos> <pad> <pad> <pad> <pad> <pad> <pad> <pad> <pad> <pad> \n",
            "-----------------------------------------------------------\n",
            "<sos> a group of people on a dock by a city boarding various boats <eos> <pad> <pad> <pad> <pad> <pad> <pad> <pad> <pad> <pad> <pad> <pad> <pad> \n",
            "-----------------------------------------------------------\n",
            "<sos> a man is yelling at someone from a game booth . <eos> <pad> <pad> <pad> <pad> <pad> <pad> <pad> <pad> <pad> <pad> <pad> <pad> <pad> <pad> \n",
            "-----------------------------------------------------------\n",
            "<sos> a man in dark clothing stands amongst some gear wheels . <eos> <pad> <pad> <pad> <pad> <pad> <pad> <pad> <pad> <pad> <pad> <pad> <pad> <pad> <pad> \n",
            "-----------------------------------------------------------\n",
            "<sos> a couple walk their dachshund past a wall with graffiti on it . <eos> <pad> <pad> <pad> <pad> <pad> <pad> <pad> <pad> <pad> <pad> <pad> <pad> \n",
            "-----------------------------------------------------------\n",
            "<sos> a man is sitting beside a bunch of material while sewing . <eos> <pad> <pad> <pad> <pad> <pad> <pad> <pad> <pad> <pad> <pad> <pad> <pad> <pad> \n",
            "-----------------------------------------------------------\n",
            "<sos> a child stands ready with a baseball mitt . <eos> <pad> <pad> <pad> <pad> <pad> <pad> <pad> <pad> <pad> <pad> <pad> <pad> <pad> <pad> <pad> <pad> \n",
            "-----------------------------------------------------------\n",
            "<sos> people in a market buying fruits and vegetables <eos> <pad> <pad> <pad> <pad> <pad> <pad> <pad> <pad> <pad> <pad> <pad> <pad> <pad> <pad> <pad> <pad> <pad> \n",
            "-----------------------------------------------------------\n",
            "<sos> a surgical <unk> in blue scrubs checking the <unk> on the machines before surgery . <eos> <pad> <pad> <pad> <pad> <pad> <pad> <pad> <pad> <pad> <pad> \n",
            "-----------------------------------------------------------\n",
            "<sos> a man about to step off the edge of a desert rock formation . <eos> <pad> <pad> <pad> <pad> <pad> <pad> <pad> <pad> <pad> <pad> <pad> \n",
            "-----------------------------------------------------------\n",
            "<sos> people stand and look out the window to view the mountain . <eos> <pad> <pad> <pad> <pad> <pad> <pad> <pad> <pad> <pad> <pad> <pad> <pad> <pad> \n",
            "-----------------------------------------------------------\n",
            "<sos> a restaurant setting inside a building where people are currently dining . <eos> <pad> <pad> <pad> <pad> <pad> <pad> <pad> <pad> <pad> <pad> <pad> <pad> <pad> \n",
            "-----------------------------------------------------------\n",
            "<sos> a man wearing a blue jacket happily displays his product . <eos> <pad> <pad> <pad> <pad> <pad> <pad> <pad> <pad> <pad> <pad> <pad> <pad> <pad> <pad> \n",
            "-----------------------------------------------------------\n",
            "<sos> the motocross rider wearing blue and black pants . <eos> <pad> <pad> <pad> <pad> <pad> <pad> <pad> <pad> <pad> <pad> <pad> <pad> <pad> <pad> <pad> <pad> \n",
            "-----------------------------------------------------------\n",
            "<sos> a group of men wearing hard hats and safety vests are standing on a large metal structure . <eos> <pad> <pad> <pad> <pad> <pad> <pad> <pad> \n",
            "-----------------------------------------------------------\n",
            "<sos> a group of people dressed in karate uniforms are all kicking into the air . <eos> <pad> <pad> <pad> <pad> <pad> <pad> <pad> <pad> <pad> <pad> \n",
            "-----------------------------------------------------------\n",
            "<sos> a smiling blond - headed little girl is lying on the floor <unk> down looking up while a line of dominoes sit beside her . <eos> \n",
            "-----------------------------------------------------------\n",
            "<sos> little blond girl reaching for a basket of toys . <eos> <pad> <pad> <pad> <pad> <pad> <pad> <pad> <pad> <pad> <pad> <pad> <pad> <pad> <pad> <pad> \n",
            "-----------------------------------------------------------\n",
            "<sos> indian students working and in discussion in a classroom . <eos> <pad> <pad> <pad> <pad> <pad> <pad> <pad> <pad> <pad> <pad> <pad> <pad> <pad> <pad> <pad> \n",
            "-----------------------------------------------------------\n",
            "<sos> two cheerleaders are sitting at a football game . <eos> <pad> <pad> <pad> <pad> <pad> <pad> <pad> <pad> <pad> <pad> <pad> <pad> <pad> <pad> <pad> <pad> \n",
            "-----------------------------------------------------------\n",
            "<sos> man sitting on an old fashion trolley . <eos> <pad> <pad> <pad> <pad> <pad> <pad> <pad> <pad> <pad> <pad> <pad> <pad> <pad> <pad> <pad> <pad> <pad> \n",
            "-----------------------------------------------------------\n",
            "<sos> a woman jumps over a park bench while throwing leaves in the air . <eos> <pad> <pad> <pad> <pad> <pad> <pad> <pad> <pad> <pad> <pad> <pad> \n",
            "-----------------------------------------------------------\n",
            "<sos> a woman in a black jacket and tan boots is walking on the street in front of a group of people . <eos> <pad> <pad> <pad> \n",
            "-----------------------------------------------------------\n",
            "<sos> a man in a white suit is standing with two women . <eos> <pad> <pad> <pad> <pad> <pad> <pad> <pad> <pad> <pad> <pad> <pad> <pad> <pad> \n",
            "-----------------------------------------------------------\n",
            "<sos> a bicycle rider takes a daring jump as his friends watch . <eos> <pad> <pad> <pad> <pad> <pad> <pad> <pad> <pad> <pad> <pad> <pad> <pad> <pad> \n",
            "-----------------------------------------------------------\n",
            "<sos> a woman in a white shirt is wearing goggles . <eos> <pad> <pad> <pad> <pad> <pad> <pad> <pad> <pad> <pad> <pad> <pad> <pad> <pad> <pad> <pad> \n",
            "-----------------------------------------------------------\n",
            "<sos> woman and small black dog walking across pavement <eos> <pad> <pad> <pad> <pad> <pad> <pad> <pad> <pad> <pad> <pad> <pad> <pad> <pad> <pad> <pad> <pad> <pad> \n",
            "-----------------------------------------------------------\n",
            "<sos> a group of people standing over a table . <eos> <pad> <pad> <pad> <pad> <pad> <pad> <pad> <pad> <pad> <pad> <pad> <pad> <pad> <pad> <pad> <pad> \n",
            "-----------------------------------------------------------\n",
            "<sos> a group of children and women crouching aside a stream of water . <eos> <pad> <pad> <pad> <pad> <pad> <pad> <pad> <pad> <pad> <pad> <pad> <pad> \n",
            "-----------------------------------------------------------\n",
            "<sos> several men and women are sitting around in a hut waiting for their turn to be next . <eos> <pad> <pad> <pad> <pad> <pad> <pad> <pad> \n",
            "-----------------------------------------------------------\n",
            "<sos> a man is performing a <unk> <unk> as people walk by and watch his performance . <eos> <pad> <pad> <pad> <pad> <pad> <pad> <pad> <pad> <pad> \n",
            "-----------------------------------------------------------\n",
            "<sos> a little girl in a green bathing suit is getting splashed in a water fountain . <eos> <pad> <pad> <pad> <pad> <pad> <pad> <pad> <pad> <pad> \n",
            "-----------------------------------------------------------\n",
            "<sos> three people are standing on a fire escape . <eos> <pad> <pad> <pad> <pad> <pad> <pad> <pad> <pad> <pad> <pad> <pad> <pad> <pad> <pad> <pad> <pad> \n",
            "-----------------------------------------------------------\n",
            "<sos> a man in a tan colored shirt cutting food . <eos> <pad> <pad> <pad> <pad> <pad> <pad> <pad> <pad> <pad> <pad> <pad> <pad> <pad> <pad> <pad> \n",
            "-----------------------------------------------------------\n",
            "<sos> two men paint modern mural on a wall with a <unk> walkway . <eos> <pad> <pad> <pad> <pad> <pad> <pad> <pad> <pad> <pad> <pad> <pad> <pad> \n",
            "-----------------------------------------------------------\n",
            "<sos> three school - aged children in uniforms jumping rope <eos> <pad> <pad> <pad> <pad> <pad> <pad> <pad> <pad> <pad> <pad> <pad> <pad> <pad> <pad> <pad> <pad> \n",
            "-----------------------------------------------------------\n",
            "<sos> a man in jeans and a t - shirt loading something into a trailer . <eos> <pad> <pad> <pad> <pad> <pad> <pad> <pad> <pad> <pad> <pad> \n",
            "-----------------------------------------------------------\n",
            "<sos> two guitar players dressed in white <eos> <pad> <pad> <pad> <pad> <pad> <pad> <pad> <pad> <pad> <pad> <pad> <pad> <pad> <pad> <pad> <pad> <pad> <pad> <pad> \n",
            "-----------------------------------------------------------\n",
            "<sos> three men having a conversation outside of store . <eos> <pad> <pad> <pad> <pad> <pad> <pad> <pad> <pad> <pad> <pad> <pad> <pad> <pad> <pad> <pad> <pad> \n",
            "-----------------------------------------------------------\n",
            "<sos> three men play saxophones while one man play makeshift drum on a corner <eos> <pad> <pad> <pad> <pad> <pad> <pad> <pad> <pad> <pad> <pad> <pad> <pad> \n",
            "-----------------------------------------------------------\n",
            "<sos> a crowd of people with the focus on a woman with long blond - hair and a black shirt . <eos> <pad> <pad> <pad> <pad> <pad> \n",
            "-----------------------------------------------------------\n",
            "<sos> highway workers checking on roadwork . <eos> <pad> <pad> <pad> <pad> <pad> <pad> <pad> <pad> <pad> <pad> <pad> <pad> <pad> <pad> <pad> <pad> <pad> <pad> <pad> \n",
            "-----------------------------------------------------------\n",
            "<sos> two people looking at a display of bottles . <eos> <pad> <pad> <pad> <pad> <pad> <pad> <pad> <pad> <pad> <pad> <pad> <pad> <pad> <pad> <pad> <pad> \n",
            "-----------------------------------------------------------\n",
            "<sos> a hockey player is laying on the ice in front of the goal . <eos> <pad> <pad> <pad> <pad> <pad> <pad> <pad> <pad> <pad> <pad> <pad> \n",
            "-----------------------------------------------------------\n",
            "<sos> a woman in a plaid shirt looking in a glass tank . <eos> <pad> <pad> <pad> <pad> <pad> <pad> <pad> <pad> <pad> <pad> <pad> <pad> <pad> \n",
            "-----------------------------------------------------------\n",
            "<sos> a man who was stuck in the tree . <eos> <pad> <pad> <pad> <pad> <pad> <pad> <pad> <pad> <pad> <pad> <pad> <pad> <pad> <pad> <pad> <pad> \n",
            "-----------------------------------------------------------\n",
            "<sos> a couple is camping in the woods . <eos> <pad> <pad> <pad> <pad> <pad> <pad> <pad> <pad> <pad> <pad> <pad> <pad> <pad> <pad> <pad> <pad> <pad> \n",
            "-----------------------------------------------------------\n",
            "<sos> two women sitting next to each other one is holding a baby and the other is showing her bracelet . <eos> <pad> <pad> <pad> <pad> <pad> \n",
            "-----------------------------------------------------------\n",
            "<sos> asian young boy with a gray sweater , playing an asian game . <eos> <pad> <pad> <pad> <pad> <pad> <pad> <pad> <pad> <pad> <pad> <pad> <pad> \n",
            "-----------------------------------------------------------\n",
            "<sos> a man wearing a hat with his face lit up stands in the middle of a circle of people . <eos> <pad> <pad> <pad> <pad> <pad> \n",
            "-----------------------------------------------------------\n",
            "<sos> a girl blowing bubbles in the swimming pool . <eos> <pad> <pad> <pad> <pad> <pad> <pad> <pad> <pad> <pad> <pad> <pad> <pad> <pad> <pad> <pad> <pad> \n",
            "-----------------------------------------------------------\n",
            "<sos> a mad sitting down drilling a hole into a glass bottle . <eos> <pad> <pad> <pad> <pad> <pad> <pad> <pad> <pad> <pad> <pad> <pad> <pad> <pad> \n",
            "-----------------------------------------------------------\n",
            "<sos> men wearing orange uniforms and fake wings walk down a subway tunnel . <eos> <pad> <pad> <pad> <pad> <pad> <pad> <pad> <pad> <pad> <pad> <pad> <pad> \n",
            "-----------------------------------------------------------\n",
            "<sos> a smiling man with a yellow hard hat is peeking out from a manhole . <eos> <pad> <pad> <pad> <pad> <pad> <pad> <pad> <pad> <pad> <pad> \n",
            "-----------------------------------------------------------\n",
            "<sos> a man in sunglasses sits in a race car with an exposed engine . <eos> <pad> <pad> <pad> <pad> <pad> <pad> <pad> <pad> <pad> <pad> <pad> \n",
            "-----------------------------------------------------------\n",
            "<sos> a girl on a beach with rainbow flags . <eos> <pad> <pad> <pad> <pad> <pad> <pad> <pad> <pad> <pad> <pad> <pad> <pad> <pad> <pad> <pad> <pad> \n",
            "-----------------------------------------------------------\n",
            "<sos> people on the city street walk past a puppet theater . <eos> <pad> <pad> <pad> <pad> <pad> <pad> <pad> <pad> <pad> <pad> <pad> <pad> <pad> <pad> \n",
            "-----------------------------------------------------------\n",
            "<sos> a man vacuuming near a toddler in a soft green painted room . <eos> <pad> <pad> <pad> <pad> <pad> <pad> <pad> <pad> <pad> <pad> <pad> <pad> \n",
            "-----------------------------------------------------------\n",
            "<sos> five asian friends posing together for a picture . <eos> <pad> <pad> <pad> <pad> <pad> <pad> <pad> <pad> <pad> <pad> <pad> <pad> <pad> <pad> <pad> <pad> \n",
            "-----------------------------------------------------------\n",
            "<sos> a snowboarder jumping off a tall brick building . <eos> <pad> <pad> <pad> <pad> <pad> <pad> <pad> <pad> <pad> <pad> <pad> <pad> <pad> <pad> <pad> <pad> \n",
            "-----------------------------------------------------------\n",
            "<sos> four men with orange safety gear walking through a field . <eos> <pad> <pad> <pad> <pad> <pad> <pad> <pad> <pad> <pad> <pad> <pad> <pad> <pad> <pad> \n",
            "-----------------------------------------------------------\n",
            "<sos> the fat brown dog is standing over the little white dog . <eos> <pad> <pad> <pad> <pad> <pad> <pad> <pad> <pad> <pad> <pad> <pad> <pad> <pad> \n",
            "-----------------------------------------------------------\n",
            "<sos> a black dog jumps over a pole on green grass . <eos> <pad> <pad> <pad> <pad> <pad> <pad> <pad> <pad> <pad> <pad> <pad> <pad> <pad> <pad> \n",
            "-----------------------------------------------------------\n",
            "<sos> yellow taxi cab moving across the bridge and huge buildings in the background . <eos> <pad> <pad> <pad> <pad> <pad> <pad> <pad> <pad> <pad> <pad> <pad> \n",
            "-----------------------------------------------------------\n",
            "<sos> lead singer for a band is holding a microphone . <eos> <pad> <pad> <pad> <pad> <pad> <pad> <pad> <pad> <pad> <pad> <pad> <pad> <pad> <pad> <pad> \n",
            "-----------------------------------------------------------\n",
            "<sos> three boys play in an unfinished building . <eos> <pad> <pad> <pad> <pad> <pad> <pad> <pad> <pad> <pad> <pad> <pad> <pad> <pad> <pad> <pad> <pad> <pad> \n",
            "-----------------------------------------------------------\n",
            "<sos> a woman in a red coat is sitting in the grass with rabbits . <eos> <pad> <pad> <pad> <pad> <pad> <pad> <pad> <pad> <pad> <pad> <pad> \n",
            "-----------------------------------------------------------\n",
            "<sos> a man carrying a blue oil drum is performing a show on the street . <eos> <pad> <pad> <pad> <pad> <pad> <pad> <pad> <pad> <pad> <pad> \n",
            "-----------------------------------------------------------\n",
            "<sos> a man stands upon his charcoal grill . <eos> <pad> <pad> <pad> <pad> <pad> <pad> <pad> <pad> <pad> <pad> <pad> <pad> <pad> <pad> <pad> <pad> <pad> \n",
            "-----------------------------------------------------------\n",
            "<sos> a brunette is eating noodle soup with chopsticks out of an orange bowl <eos> <pad> <pad> <pad> <pad> <pad> <pad> <pad> <pad> <pad> <pad> <pad> <pad> \n",
            "-----------------------------------------------------------\n",
            "<sos> a pale white lady with blond - hair and crystal clear blue eyes , <unk> poses with two red <unk> placed in her <unk> . <eos> \n",
            "-----------------------------------------------------------\n",
            "<sos> man , son , and vendor smile while holding <unk> magazines . <eos> <pad> <pad> <pad> <pad> <pad> <pad> <pad> <pad> <pad> <pad> <pad> <pad> <pad> \n",
            "-----------------------------------------------------------\n",
            "<sos> the women are looking at the beautiful jewelry . <eos> <pad> <pad> <pad> <pad> <pad> <pad> <pad> <pad> <pad> <pad> <pad> <pad> <pad> <pad> <pad> <pad> \n",
            "-----------------------------------------------------------\n",
            "<sos> people gathered around an olive vendor at a farmers market . <eos> <pad> <pad> <pad> <pad> <pad> <pad> <pad> <pad> <pad> <pad> <pad> <pad> <pad> <pad> \n",
            "-----------------------------------------------------------\n",
            "<sos> a man and woman riding on a subway car . <eos> <pad> <pad> <pad> <pad> <pad> <pad> <pad> <pad> <pad> <pad> <pad> <pad> <pad> <pad> <pad> \n",
            "-----------------------------------------------------------\n",
            "<sos> a girl stands on two thin logs and photographs buffalo across a river . <eos> <pad> <pad> <pad> <pad> <pad> <pad> <pad> <pad> <pad> <pad> <pad> \n",
            "-----------------------------------------------------------\n",
            "<sos> a girl does a side bend in the surf , another girl behind her , the sun setting . <eos> <pad> <pad> <pad> <pad> <pad> <pad> \n",
            "-----------------------------------------------------------\n",
            "<sos> a group of men and one girl are standing in the street . <eos> <pad> <pad> <pad> <pad> <pad> <pad> <pad> <pad> <pad> <pad> <pad> <pad> \n",
            "-----------------------------------------------------------\n",
            "<sos> a man is in a barber 's shop getting a haircut . <eos> <pad> <pad> <pad> <pad> <pad> <pad> <pad> <pad> <pad> <pad> <pad> <pad> <pad> \n",
            "-----------------------------------------------------------\n",
            "<sos> a runner with plaid shorts is running a race in the countryside . <eos> <pad> <pad> <pad> <pad> <pad> <pad> <pad> <pad> <pad> <pad> <pad> <pad> \n",
            "-----------------------------------------------------------\n",
            "<sos> a child wearing black and white swim gear kneeling in shallow water over a plastic yellow boat filled with wet sand . <eos> <pad> <pad> <pad> \n",
            "-----------------------------------------------------------\n",
            "<sos> the man on the bike just finished riding through some mud . <eos> <pad> <pad> <pad> <pad> <pad> <pad> <pad> <pad> <pad> <pad> <pad> <pad> <pad> \n",
            "-----------------------------------------------------------\n",
            "<sos> young boy kicks a red and white soccer ball on a grassy field <eos> <pad> <pad> <pad> <pad> <pad> <pad> <pad> <pad> <pad> <pad> <pad> <pad> \n",
            "-----------------------------------------------------------\n",
            "<sos> a woman in a pink blouse conversing with an amused male caucasian . <eos> <pad> <pad> <pad> <pad> <pad> <pad> <pad> <pad> <pad> <pad> <pad> <pad> \n",
            "-----------------------------------------------------------\n",
            "<sos> a crowd of people are in the streets and some have torches . <eos> <pad> <pad> <pad> <pad> <pad> <pad> <pad> <pad> <pad> <pad> <pad> <pad> \n",
            "-----------------------------------------------------------\n",
            "<sos> a old man washing the windows of city lights books . <eos> <pad> <pad> <pad> <pad> <pad> <pad> <pad> <pad> <pad> <pad> <pad> <pad> <pad> <pad> \n",
            "-----------------------------------------------------------\n",
            "<sos> the people in the red parasail are gliding over the water . <eos> <pad> <pad> <pad> <pad> <pad> <pad> <pad> <pad> <pad> <pad> <pad> <pad> <pad> \n",
            "-----------------------------------------------------------\n",
            "<sos> a child dressed in a blue shirt and cap is carrying a soccer ball . <eos> <pad> <pad> <pad> <pad> <pad> <pad> <pad> <pad> <pad> <pad> \n",
            "-----------------------------------------------------------\n",
            "<sos> two people leaning on a rock wall looking at the scenery . <eos> <pad> <pad> <pad> <pad> <pad> <pad> <pad> <pad> <pad> <pad> <pad> <pad> <pad> \n",
            "-----------------------------------------------------------\n",
            "<sos> a smiling boy floats in a pool . <eos> <pad> <pad> <pad> <pad> <pad> <pad> <pad> <pad> <pad> <pad> <pad> <pad> <pad> <pad> <pad> <pad> <pad> \n",
            "-----------------------------------------------------------\n",
            "<sos> there are three women wearing different dresses and headbands dancing in the street . <eos> <pad> <pad> <pad> <pad> <pad> <pad> <pad> <pad> <pad> <pad> <pad> \n",
            "-----------------------------------------------------------\n",
            "<sos> two young asians in shorts waiting by a curb . <eos> <pad> <pad> <pad> <pad> <pad> <pad> <pad> <pad> <pad> <pad> <pad> <pad> <pad> <pad> <pad> \n",
            "-----------------------------------------------------------\n",
            "<sos> brown , black and white dog standing on a sandy slope . <eos> <pad> <pad> <pad> <pad> <pad> <pad> <pad> <pad> <pad> <pad> <pad> <pad> <pad> \n",
            "-----------------------------------------------------------\n",
            "<sos> a mother is reaching down for her child on a sidewalk . <eos> <pad> <pad> <pad> <pad> <pad> <pad> <pad> <pad> <pad> <pad> <pad> <pad> <pad> \n",
            "-----------------------------------------------------------\n",
            "<sos> a man is on a bucking bull at the rodeo . <eos> <pad> <pad> <pad> <pad> <pad> <pad> <pad> <pad> <pad> <pad> <pad> <pad> <pad> <pad> \n",
            "-----------------------------------------------------------\n",
            "<sos> a black dog swimming through a river . <eos> <pad> <pad> <pad> <pad> <pad> <pad> <pad> <pad> <pad> <pad> <pad> <pad> <pad> <pad> <pad> <pad> <pad> \n",
            "-----------------------------------------------------------\n",
            "<sos> the images are n't showing up , so i ' m going to <unk> the picture is lovely . <eos> <pad> <pad> <pad> <pad> <pad> <pad> \n",
            "-----------------------------------------------------------\n",
            "<sos> a group of people both adult and children stand around a bunch of sheep . <eos> <pad> <pad> <pad> <pad> <pad> <pad> <pad> <pad> <pad> <pad> \n",
            "-----------------------------------------------------------\n",
            "<sos> a street worker driving a machine to level the wet concrete . <eos> <pad> <pad> <pad> <pad> <pad> <pad> <pad> <pad> <pad> <pad> <pad> <pad> <pad> \n",
            "-----------------------------------------------------------\n",
            "<sos> three young people planting flowers and covering the area with a tarp . <eos> <pad> <pad> <pad> <pad> <pad> <pad> <pad> <pad> <pad> <pad> <pad> <pad> \n",
            "-----------------------------------------------------------\n",
            "<sos> a group of bystanders view the eiffel tower from a balcony . <eos> <pad> <pad> <pad> <pad> <pad> <pad> <pad> <pad> <pad> <pad> <pad> <pad> <pad> \n",
            "-----------------------------------------------------------\n",
            "<sos> a person is sitting on a chair while listening to music . <eos> <pad> <pad> <pad> <pad> <pad> <pad> <pad> <pad> <pad> <pad> <pad> <pad> <pad> \n",
            "-----------------------------------------------------------\n",
            "<sos> a butcher cutting fish to be sold at the market <eos> <pad> <pad> <pad> <pad> <pad> <pad> <pad> <pad> <pad> <pad> <pad> <pad> <pad> <pad> <pad> \n",
            "-----------------------------------------------------------\n",
            "<sos> a woman is standing in front of an amusement park ride . <eos> <pad> <pad> <pad> <pad> <pad> <pad> <pad> <pad> <pad> <pad> <pad> <pad> <pad> \n",
            "-----------------------------------------------------------\n",
            "<sos> one person is sitting on a beach with a rainbow in the background . <eos> <pad> <pad> <pad> <pad> <pad> <pad> <pad> <pad> <pad> <pad> <pad> \n",
            "-----------------------------------------------------------\n",
            "<sos> person doing a dance on the ocean . <eos> <pad> <pad> <pad> <pad> <pad> <pad> <pad> <pad> <pad> <pad> <pad> <pad> <pad> <pad> <pad> <pad> <pad> \n",
            "-----------------------------------------------------------\n",
            "<sos> a man is riding a dirt bike with the number 3 on it . <eos> <pad> <pad> <pad> <pad> <pad> <pad> <pad> <pad> <pad> <pad> <pad> \n",
            "-----------------------------------------------------------\n",
            "<sos> a girls climbs on a jungle gym . <eos> <pad> <pad> <pad> <pad> <pad> <pad> <pad> <pad> <pad> <pad> <pad> <pad> <pad> <pad> <pad> <pad> <pad> \n",
            "-----------------------------------------------------------\n",
            "<sos> an elderly black man using a sewing machine on a shirt . <eos> <pad> <pad> <pad> <pad> <pad> <pad> <pad> <pad> <pad> <pad> <pad> <pad> <pad> \n",
            "-----------------------------------------------------------\n",
            "<sos> a man in a white shirt is fixing the tire of a <unk> bike . <eos> <pad> <pad> <pad> <pad> <pad> <pad> <pad> <pad> <pad> <pad> \n",
            "-----------------------------------------------------------\n",
            "<sos> the group of people are <unk> for a wedding . <eos> <pad> <pad> <pad> <pad> <pad> <pad> <pad> <pad> <pad> <pad> <pad> <pad> <pad> <pad> <pad> \n",
            "-----------------------------------------------------------\n",
            "<sos> 5 athletes wearing white tops and white bottoms are doing a routine for an audience . <eos> <pad> <pad> <pad> <pad> <pad> <pad> <pad> <pad> <pad> \n",
            "-----------------------------------------------------------\n",
            "<sos> two elderly women can be seen from a car talking next to a wall . <eos> <pad> <pad> <pad> <pad> <pad> <pad> <pad> <pad> <pad> <pad> \n",
            "-----------------------------------------------------------\n",
            "<sos> two young boys fetching water with a unicef <unk> . <eos> <pad> <pad> <pad> <pad> <pad> <pad> <pad> <pad> <pad> <pad> <pad> <pad> <pad> <pad> <pad> \n",
            "-----------------------------------------------------------\n",
            "<sos> a woman <unk> through some <unk> . <eos> <pad> <pad> <pad> <pad> <pad> <pad> <pad> <pad> <pad> <pad> <pad> <pad> <pad> <pad> <pad> <pad> <pad> <pad> \n",
            "-----------------------------------------------------------\n",
            "<sos> a girl running with a basketball , while another tries to steal the ball from her . <eos> <pad> <pad> <pad> <pad> <pad> <pad> <pad> <pad> \n",
            "-----------------------------------------------------------\n",
            "<sos> a woman speaks into a <unk> on a cold night . <eos> <pad> <pad> <pad> <pad> <pad> <pad> <pad> <pad> <pad> <pad> <pad> <pad> <pad> <pad> \n",
            "-----------------------------------------------------------\n",
            "<sos> groups of people are riding down a river in rafts . <eos> <pad> <pad> <pad> <pad> <pad> <pad> <pad> <pad> <pad> <pad> <pad> <pad> <pad> <pad> \n",
            "-----------------------------------------------------------\n",
            "<sos> a man in old costume leaps across an <unk> street besides a <unk> . <eos> <pad> <pad> <pad> <pad> <pad> <pad> <pad> <pad> <pad> <pad> <pad> \n",
            "-----------------------------------------------------------\n",
            "<sos> <unk> <unk> , dressed in black , is holding a microphone and pointing to a crowd . <eos> <pad> <pad> <pad> <pad> <pad> <pad> <pad> <pad> \n",
            "-----------------------------------------------------------\n",
            "<sos> a young boy wearing goggles working on a simple science project . <eos> <pad> <pad> <pad> <pad> <pad> <pad> <pad> <pad> <pad> <pad> <pad> <pad> <pad> \n",
            "-----------------------------------------------------------\n",
            "<sos> students , and their teachers in a classroom going over material . <eos> <pad> <pad> <pad> <pad> <pad> <pad> <pad> <pad> <pad> <pad> <pad> <pad> <pad> \n",
            "-----------------------------------------------------------\n",
            "<sos> a smiling man with short brown hair in a black shirt with an open orange shoe box . <eos> <pad> <pad> <pad> <pad> <pad> <pad> <pad> \n",
            "-----------------------------------------------------------\n",
            "<sos> a man standing in a large room by a window . <eos> <pad> <pad> <pad> <pad> <pad> <pad> <pad> <pad> <pad> <pad> <pad> <pad> <pad> <pad> \n",
            "-----------------------------------------------------------\n",
            "<sos> people are strolling and conversing on a sidewalk in front of a hospital . <eos> <pad> <pad> <pad> <pad> <pad> <pad> <pad> <pad> <pad> <pad> <pad> \n",
            "-----------------------------------------------------------\n",
            "<sos> the gray and white dog is walking on gravel . <eos> <pad> <pad> <pad> <pad> <pad> <pad> <pad> <pad> <pad> <pad> <pad> <pad> <pad> <pad> <pad> \n",
            "-----------------------------------------------------------\n"
          ]
        }
      ]
    },
    {
      "cell_type": "code",
      "source": [
        "print(TRG.vocab.stoi[\"abcabc\"]) # 없는 단어: 0\n",
        "print(TRG.vocab.stoi[TRG.pad_token]) # 패딩(padding): 1\n",
        "print(TRG.vocab.stoi[\"<sos>\"]) # <sos>: 2\n",
        "print(TRG.vocab.stoi[\"<eos>\"]) # <eos>: 3\n",
        "print(TRG.vocab.stoi[\"hello\"])\n",
        "print(TRG.vocab.stoi[\"world\"])"
      ],
      "metadata": {
        "colab": {
          "base_uri": "https://localhost:8080/"
        },
        "id": "E41OH5wQbwPb",
        "outputId": "0c2af13a-5e8d-402a-ec47-79cdf4e02b14"
      },
      "execution_count": 49,
      "outputs": [
        {
          "output_type": "stream",
          "name": "stdout",
          "text": [
            "0\n",
            "1\n",
            "2\n",
            "3\n",
            "4112\n",
            "1752\n"
          ]
        }
      ]
    },
    {
      "cell_type": "code",
      "source": [
        ""
      ],
      "metadata": {
        "colab": {
          "base_uri": "https://localhost:8080/"
        },
        "id": "AC2QgrkjcdO2",
        "outputId": "7c6172eb-6f53-4f0d-9fda-c36b1421362b"
      },
      "execution_count": 60,
      "outputs": [
        {
          "output_type": "execute_result",
          "data": {
            "text/plain": [
              "['<unk>', '<pad>', '<sos>', '<eos>', 'a', '.', 'in', 'the', 'on', 'man']"
            ]
          },
          "metadata": {},
          "execution_count": 60
        }
      ]
    },
    {
      "cell_type": "code",
      "source": [
        ""
      ],
      "metadata": {
        "id": "PZ19iUnJdDpF"
      },
      "execution_count": null,
      "outputs": []
    }
  ]
}